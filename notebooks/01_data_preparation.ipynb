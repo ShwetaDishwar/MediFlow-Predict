{
 "cells": [
  {
   "cell_type": "code",
   "execution_count": 9,
   "id": "34e3d508",
   "metadata": {},
   "outputs": [],
   "source": [
    "import pandas as pd\n",
    "import numpy as np\n",
    "import os"
   ]
  },
  {
   "cell_type": "code",
   "execution_count": 10,
   "id": "0dd38e5a",
   "metadata": {},
   "outputs": [
    {
     "data": {
      "text/plain": [
       "'d:\\\\SICSR\\\\project\\\\MediFlow-Predict\\\\notebooks'"
      ]
     },
     "execution_count": 10,
     "metadata": {},
     "output_type": "execute_result"
    }
   ],
   "source": [
    "%pwd"
   ]
  },
  {
   "cell_type": "code",
   "execution_count": 11,
   "id": "5aa8a4d3",
   "metadata": {},
   "outputs": [],
   "source": [
    "os.chdir(\"../\")"
   ]
  },
  {
   "cell_type": "code",
   "execution_count": 12,
   "id": "d8a95823",
   "metadata": {},
   "outputs": [
    {
     "data": {
      "text/plain": [
       "'d:\\\\SICSR\\\\project\\\\MediFlow-Predict'"
      ]
     },
     "execution_count": 12,
     "metadata": {},
     "output_type": "execute_result"
    }
   ],
   "source": [
    "%pwd"
   ]
  },
  {
   "cell_type": "code",
   "execution_count": 15,
   "id": "50f04f79",
   "metadata": {},
   "outputs": [
    {
     "data": {
      "text/plain": [
       "['.gitkeep', 'NoShow.csv']"
      ]
     },
     "execution_count": 15,
     "metadata": {},
     "output_type": "execute_result"
    }
   ],
   "source": [
    "import os\n",
    "os.listdir(\"data/raw\")\n"
   ]
  },
  {
   "cell_type": "code",
   "execution_count": 27,
   "id": "c426c739",
   "metadata": {},
   "outputs": [],
   "source": [
    "# Force PatientId to be read as string to preserve exact values\n",
    "df = pd.read_csv(\"data/raw/NoShow.csv\", dtype={'PatientId': str})\n"
   ]
  },
  {
   "cell_type": "code",
   "execution_count": 28,
   "id": "78cc43a3",
   "metadata": {},
   "outputs": [
    {
     "data": {
      "application/vnd.microsoft.datawrangler.viewer.v0+json": {
       "columns": [
        {
         "name": "index",
         "rawType": "int64",
         "type": "integer"
        },
        {
         "name": "patient_id",
         "rawType": "object",
         "type": "string"
        },
        {
         "name": "appointment_id",
         "rawType": "int64",
         "type": "integer"
        },
        {
         "name": "gender",
         "rawType": "object",
         "type": "string"
        },
        {
         "name": "scheduled_day",
         "rawType": "datetime64[ns, UTC]",
         "type": "unknown"
        },
        {
         "name": "appointment_day",
         "rawType": "datetime64[ns, UTC]",
         "type": "unknown"
        },
        {
         "name": "age",
         "rawType": "int64",
         "type": "integer"
        },
        {
         "name": "neighbourhood",
         "rawType": "object",
         "type": "string"
        },
        {
         "name": "scholarship",
         "rawType": "int64",
         "type": "integer"
        },
        {
         "name": "hypertension",
         "rawType": "int64",
         "type": "integer"
        },
        {
         "name": "diabetes",
         "rawType": "int64",
         "type": "integer"
        },
        {
         "name": "alcoholism",
         "rawType": "int64",
         "type": "integer"
        },
        {
         "name": "handicap",
         "rawType": "int64",
         "type": "integer"
        },
        {
         "name": "sms_received",
         "rawType": "int64",
         "type": "integer"
        },
        {
         "name": "no_show",
         "rawType": "int64",
         "type": "integer"
        }
       ],
       "ref": "1b24ace2-cd6f-48b7-8059-30d60c8bbf9b",
       "rows": [
        [
         "0",
         "29872499824296",
         "5642903",
         "F",
         "2016-04-29 18:38:08+00:00",
         "2016-04-29 00:00:00+00:00",
         "62",
         "JARDIM DA PENHA",
         "0",
         "1",
         "0",
         "0",
         "0",
         "0",
         "0"
        ],
        [
         "1",
         "558997776694438",
         "5642503",
         "M",
         "2016-04-29 16:08:27+00:00",
         "2016-04-29 00:00:00+00:00",
         "56",
         "JARDIM DA PENHA",
         "0",
         "0",
         "0",
         "0",
         "0",
         "0",
         "0"
        ],
        [
         "2",
         "4262962299951",
         "5642549",
         "F",
         "2016-04-29 16:19:04+00:00",
         "2016-04-29 00:00:00+00:00",
         "62",
         "MATA DA PRAIA",
         "0",
         "0",
         "0",
         "0",
         "0",
         "0",
         "0"
        ],
        [
         "3",
         "867951213174",
         "5642828",
         "F",
         "2016-04-29 17:29:31+00:00",
         "2016-04-29 00:00:00+00:00",
         "8",
         "PONTAL DE CAMBURI",
         "0",
         "0",
         "0",
         "0",
         "0",
         "0",
         "0"
        ],
        [
         "4",
         "8841186448183",
         "5642494",
         "F",
         "2016-04-29 16:07:23+00:00",
         "2016-04-29 00:00:00+00:00",
         "56",
         "JARDIM DA PENHA",
         "0",
         "1",
         "1",
         "0",
         "0",
         "0",
         "0"
        ]
       ],
       "shape": {
        "columns": 14,
        "rows": 5
       }
      },
      "text/html": [
       "<div>\n",
       "<style scoped>\n",
       "    .dataframe tbody tr th:only-of-type {\n",
       "        vertical-align: middle;\n",
       "    }\n",
       "\n",
       "    .dataframe tbody tr th {\n",
       "        vertical-align: top;\n",
       "    }\n",
       "\n",
       "    .dataframe thead th {\n",
       "        text-align: right;\n",
       "    }\n",
       "</style>\n",
       "<table border=\"1\" class=\"dataframe\">\n",
       "  <thead>\n",
       "    <tr style=\"text-align: right;\">\n",
       "      <th></th>\n",
       "      <th>patient_id</th>\n",
       "      <th>appointment_id</th>\n",
       "      <th>gender</th>\n",
       "      <th>scheduled_day</th>\n",
       "      <th>appointment_day</th>\n",
       "      <th>age</th>\n",
       "      <th>neighbourhood</th>\n",
       "      <th>scholarship</th>\n",
       "      <th>hypertension</th>\n",
       "      <th>diabetes</th>\n",
       "      <th>alcoholism</th>\n",
       "      <th>handicap</th>\n",
       "      <th>sms_received</th>\n",
       "      <th>no_show</th>\n",
       "    </tr>\n",
       "  </thead>\n",
       "  <tbody>\n",
       "    <tr>\n",
       "      <th>0</th>\n",
       "      <td>29872499824296</td>\n",
       "      <td>5642903</td>\n",
       "      <td>F</td>\n",
       "      <td>2016-04-29 18:38:08+00:00</td>\n",
       "      <td>2016-04-29 00:00:00+00:00</td>\n",
       "      <td>62</td>\n",
       "      <td>JARDIM DA PENHA</td>\n",
       "      <td>0</td>\n",
       "      <td>1</td>\n",
       "      <td>0</td>\n",
       "      <td>0</td>\n",
       "      <td>0</td>\n",
       "      <td>0</td>\n",
       "      <td>0</td>\n",
       "    </tr>\n",
       "    <tr>\n",
       "      <th>1</th>\n",
       "      <td>558997776694438</td>\n",
       "      <td>5642503</td>\n",
       "      <td>M</td>\n",
       "      <td>2016-04-29 16:08:27+00:00</td>\n",
       "      <td>2016-04-29 00:00:00+00:00</td>\n",
       "      <td>56</td>\n",
       "      <td>JARDIM DA PENHA</td>\n",
       "      <td>0</td>\n",
       "      <td>0</td>\n",
       "      <td>0</td>\n",
       "      <td>0</td>\n",
       "      <td>0</td>\n",
       "      <td>0</td>\n",
       "      <td>0</td>\n",
       "    </tr>\n",
       "    <tr>\n",
       "      <th>2</th>\n",
       "      <td>4262962299951</td>\n",
       "      <td>5642549</td>\n",
       "      <td>F</td>\n",
       "      <td>2016-04-29 16:19:04+00:00</td>\n",
       "      <td>2016-04-29 00:00:00+00:00</td>\n",
       "      <td>62</td>\n",
       "      <td>MATA DA PRAIA</td>\n",
       "      <td>0</td>\n",
       "      <td>0</td>\n",
       "      <td>0</td>\n",
       "      <td>0</td>\n",
       "      <td>0</td>\n",
       "      <td>0</td>\n",
       "      <td>0</td>\n",
       "    </tr>\n",
       "    <tr>\n",
       "      <th>3</th>\n",
       "      <td>867951213174</td>\n",
       "      <td>5642828</td>\n",
       "      <td>F</td>\n",
       "      <td>2016-04-29 17:29:31+00:00</td>\n",
       "      <td>2016-04-29 00:00:00+00:00</td>\n",
       "      <td>8</td>\n",
       "      <td>PONTAL DE CAMBURI</td>\n",
       "      <td>0</td>\n",
       "      <td>0</td>\n",
       "      <td>0</td>\n",
       "      <td>0</td>\n",
       "      <td>0</td>\n",
       "      <td>0</td>\n",
       "      <td>0</td>\n",
       "    </tr>\n",
       "    <tr>\n",
       "      <th>4</th>\n",
       "      <td>8841186448183</td>\n",
       "      <td>5642494</td>\n",
       "      <td>F</td>\n",
       "      <td>2016-04-29 16:07:23+00:00</td>\n",
       "      <td>2016-04-29 00:00:00+00:00</td>\n",
       "      <td>56</td>\n",
       "      <td>JARDIM DA PENHA</td>\n",
       "      <td>0</td>\n",
       "      <td>1</td>\n",
       "      <td>1</td>\n",
       "      <td>0</td>\n",
       "      <td>0</td>\n",
       "      <td>0</td>\n",
       "      <td>0</td>\n",
       "    </tr>\n",
       "  </tbody>\n",
       "</table>\n",
       "</div>"
      ],
      "text/plain": [
       "        patient_id  appointment_id gender             scheduled_day  \\\n",
       "0   29872499824296         5642903      F 2016-04-29 18:38:08+00:00   \n",
       "1  558997776694438         5642503      M 2016-04-29 16:08:27+00:00   \n",
       "2    4262962299951         5642549      F 2016-04-29 16:19:04+00:00   \n",
       "3     867951213174         5642828      F 2016-04-29 17:29:31+00:00   \n",
       "4    8841186448183         5642494      F 2016-04-29 16:07:23+00:00   \n",
       "\n",
       "            appointment_day  age      neighbourhood  scholarship  \\\n",
       "0 2016-04-29 00:00:00+00:00   62    JARDIM DA PENHA            0   \n",
       "1 2016-04-29 00:00:00+00:00   56    JARDIM DA PENHA            0   \n",
       "2 2016-04-29 00:00:00+00:00   62      MATA DA PRAIA            0   \n",
       "3 2016-04-29 00:00:00+00:00    8  PONTAL DE CAMBURI            0   \n",
       "4 2016-04-29 00:00:00+00:00   56    JARDIM DA PENHA            0   \n",
       "\n",
       "   hypertension  diabetes  alcoholism  handicap  sms_received  no_show  \n",
       "0             1         0           0         0             0        0  \n",
       "1             0         0           0         0             0        0  \n",
       "2             0         0           0         0             0        0  \n",
       "3             0         0           0         0             0        0  \n",
       "4             1         1           0         0             0        0  "
      ]
     },
     "execution_count": 28,
     "metadata": {},
     "output_type": "execute_result"
    }
   ],
   "source": [
    "\n",
    "# Clean and rename columns\n",
    "df.columns = [\n",
    "    'patient_id', 'appointment_id', 'gender', 'scheduled_day', 'appointment_day',\n",
    "    'age', 'neighbourhood', 'scholarship', 'hypertension', 'diabetes',\n",
    "    'alcoholism', 'handicap', 'sms_received', 'no_show'\n",
    "]\n",
    "\n",
    "# Convert dates to datetime\n",
    "df['scheduled_day'] = pd.to_datetime(df['scheduled_day'])\n",
    "df['appointment_day'] = pd.to_datetime(df['appointment_day'])\n",
    "\n",
    "# Filter out invalid ages\n",
    "df = df[df['age'] >= 0]\n",
    "\n",
    "# Fix categorical fields\n",
    "df['gender'] = df['gender'].str.upper().str.strip()\n",
    "\n",
    "# Convert 'no_show' to binary (1 = missed, 0 = showed up)\n",
    "df['no_show'] = df['no_show'].map({'Yes': 1, 'No': 0})\n",
    "\n",
    "# Reset index after filtering\n",
    "df.reset_index(drop=True, inplace=True)\n",
    "\n",
    "# Preview cleaned data\n",
    "df.head()\n"
   ]
  },
  {
   "cell_type": "code",
   "execution_count": 29,
   "id": "539a5ee5",
   "metadata": {},
   "outputs": [
    {
     "data": {
      "application/vnd.microsoft.datawrangler.viewer.v0+json": {
       "columns": [
        {
         "name": "index",
         "rawType": "int64",
         "type": "integer"
        },
        {
         "name": "appointment_mode",
         "rawType": "object",
         "type": "string"
        },
        {
         "name": "reminder_sent",
         "rawType": "int32",
         "type": "integer"
        },
        {
         "name": "lead_time_days",
         "rawType": "int64",
         "type": "integer"
        },
        {
         "name": "reported_issue",
         "rawType": "object",
         "type": "string"
        }
       ],
       "ref": "d5dafc57-d497-4bde-92a4-f82d58c30294",
       "rows": [
        [
         "5",
         "physical",
         "0",
         "1",
         "Flu"
        ],
        [
         "6",
         "video",
         "0",
         "1",
         "Cold"
        ],
        [
         "7",
         "audio",
         "1",
         "1",
         "Injury"
        ],
        [
         "9",
         "video",
         "1",
         "1",
         "Diabetes"
        ],
        [
         "10",
         "video",
         "1",
         "1",
         "Checkup"
        ]
       ],
       "shape": {
        "columns": 4,
        "rows": 5
       }
      },
      "text/html": [
       "<div>\n",
       "<style scoped>\n",
       "    .dataframe tbody tr th:only-of-type {\n",
       "        vertical-align: middle;\n",
       "    }\n",
       "\n",
       "    .dataframe tbody tr th {\n",
       "        vertical-align: top;\n",
       "    }\n",
       "\n",
       "    .dataframe thead th {\n",
       "        text-align: right;\n",
       "    }\n",
       "</style>\n",
       "<table border=\"1\" class=\"dataframe\">\n",
       "  <thead>\n",
       "    <tr style=\"text-align: right;\">\n",
       "      <th></th>\n",
       "      <th>appointment_mode</th>\n",
       "      <th>reminder_sent</th>\n",
       "      <th>lead_time_days</th>\n",
       "      <th>reported_issue</th>\n",
       "    </tr>\n",
       "  </thead>\n",
       "  <tbody>\n",
       "    <tr>\n",
       "      <th>5</th>\n",
       "      <td>physical</td>\n",
       "      <td>0</td>\n",
       "      <td>1</td>\n",
       "      <td>Flu</td>\n",
       "    </tr>\n",
       "    <tr>\n",
       "      <th>6</th>\n",
       "      <td>video</td>\n",
       "      <td>0</td>\n",
       "      <td>1</td>\n",
       "      <td>Cold</td>\n",
       "    </tr>\n",
       "    <tr>\n",
       "      <th>7</th>\n",
       "      <td>audio</td>\n",
       "      <td>1</td>\n",
       "      <td>1</td>\n",
       "      <td>Injury</td>\n",
       "    </tr>\n",
       "    <tr>\n",
       "      <th>9</th>\n",
       "      <td>video</td>\n",
       "      <td>1</td>\n",
       "      <td>1</td>\n",
       "      <td>Diabetes</td>\n",
       "    </tr>\n",
       "    <tr>\n",
       "      <th>10</th>\n",
       "      <td>video</td>\n",
       "      <td>1</td>\n",
       "      <td>1</td>\n",
       "      <td>Checkup</td>\n",
       "    </tr>\n",
       "  </tbody>\n",
       "</table>\n",
       "</div>"
      ],
      "text/plain": [
       "   appointment_mode  reminder_sent  lead_time_days reported_issue\n",
       "5          physical              0               1            Flu\n",
       "6             video              0               1           Cold\n",
       "7             audio              1               1         Injury\n",
       "9             video              1               1       Diabetes\n",
       "10            video              1               1        Checkup"
      ]
     },
     "execution_count": 29,
     "metadata": {},
     "output_type": "execute_result"
    }
   ],
   "source": [
    "# 1. Simulate Appointment Mode\n",
    "df['appointment_mode'] = np.random.choice(['video', 'audio', 'physical'], size=len(df), p=[0.4, 0.4, 0.2])\n",
    "\n",
    "# 2. Simulate Reminder Sent (based loosely on sms_received or fresh random)\n",
    "df['reminder_sent'] = np.random.choice([1, 0], size=len(df), p=[0.7, 0.3])\n",
    "\n",
    "# 3. Calculate Lead Time in Days\n",
    "df['lead_time_days'] = (df['appointment_day'] - df['scheduled_day']).dt.days\n",
    "# Optional: handle negatives if any\n",
    "df = df[df['lead_time_days'] >= 0]\n",
    "\n",
    "# 4. Simulate Reported Issues\n",
    "df['reported_issue'] = np.random.choice(\n",
    "    ['Flu', 'Diabetes', 'Hypertension', 'Fever', 'Cold', 'Injury', 'Checkup'],\n",
    "    size=len(df)\n",
    ")\n",
    "\n",
    "# Preview final dataset\n",
    "df[['appointment_mode', 'reminder_sent', 'lead_time_days', 'reported_issue']].head()\n"
   ]
  },
  {
   "cell_type": "code",
   "execution_count": 30,
   "id": "c6393cb0",
   "metadata": {},
   "outputs": [
    {
     "data": {
      "application/vnd.microsoft.datawrangler.viewer.v0+json": {
       "columns": [
        {
         "name": "index",
         "rawType": "int64",
         "type": "integer"
        },
        {
         "name": "patient_id",
         "rawType": "object",
         "type": "string"
        },
        {
         "name": "appointment_id",
         "rawType": "int64",
         "type": "integer"
        },
        {
         "name": "gender",
         "rawType": "object",
         "type": "string"
        },
        {
         "name": "age",
         "rawType": "int64",
         "type": "integer"
        },
        {
         "name": "neighbourhood",
         "rawType": "object",
         "type": "string"
        },
        {
         "name": "scheduled_day",
         "rawType": "object",
         "type": "unknown"
        },
        {
         "name": "appointment_day",
         "rawType": "object",
         "type": "unknown"
        },
        {
         "name": "lead_time_days",
         "rawType": "int64",
         "type": "integer"
        },
        {
         "name": "appointment_mode",
         "rawType": "object",
         "type": "string"
        },
        {
         "name": "reminder_sent",
         "rawType": "int32",
         "type": "integer"
        },
        {
         "name": "sms_received",
         "rawType": "int64",
         "type": "integer"
        },
        {
         "name": "scholarship",
         "rawType": "int64",
         "type": "integer"
        },
        {
         "name": "hypertension",
         "rawType": "int64",
         "type": "integer"
        },
        {
         "name": "diabetes",
         "rawType": "int64",
         "type": "integer"
        },
        {
         "name": "alcoholism",
         "rawType": "int64",
         "type": "integer"
        },
        {
         "name": "handicap",
         "rawType": "int64",
         "type": "integer"
        },
        {
         "name": "reported_issue",
         "rawType": "object",
         "type": "string"
        },
        {
         "name": "no_show",
         "rawType": "int64",
         "type": "integer"
        }
       ],
       "ref": "9e53f126-1380-4dfd-b54a-ee444f8157b2",
       "rows": [
        [
         "5",
         "95985133231274",
         "5626772",
         "F",
         "76",
         "REPÚBLICA",
         "2016-04-27",
         "2016-04-29",
         "1",
         "physical",
         "0",
         "0",
         "0",
         "1",
         "0",
         "0",
         "0",
         "Flu",
         "0"
        ],
        [
         "6",
         "733688164476661",
         "5630279",
         "F",
         "23",
         "GOIABEIRAS",
         "2016-04-27",
         "2016-04-29",
         "1",
         "video",
         "0",
         "0",
         "0",
         "0",
         "0",
         "0",
         "0",
         "Cold",
         "1"
        ],
        [
         "7",
         "3449833394123",
         "5630575",
         "F",
         "39",
         "GOIABEIRAS",
         "2016-04-27",
         "2016-04-29",
         "1",
         "audio",
         "1",
         "0",
         "0",
         "0",
         "0",
         "0",
         "0",
         "Injury",
         "1"
        ],
        [
         "9",
         "78124564369297",
         "5629123",
         "F",
         "19",
         "CONQUISTA",
         "2016-04-27",
         "2016-04-29",
         "1",
         "video",
         "1",
         "0",
         "0",
         "0",
         "0",
         "0",
         "0",
         "Diabetes",
         "0"
        ],
        [
         "10",
         "734536231958495",
         "5630213",
         "F",
         "30",
         "NOVA PALESTINA",
         "2016-04-27",
         "2016-04-29",
         "1",
         "video",
         "1",
         "0",
         "0",
         "0",
         "0",
         "0",
         "0",
         "Checkup",
         "0"
        ]
       ],
       "shape": {
        "columns": 18,
        "rows": 5
       }
      },
      "text/html": [
       "<div>\n",
       "<style scoped>\n",
       "    .dataframe tbody tr th:only-of-type {\n",
       "        vertical-align: middle;\n",
       "    }\n",
       "\n",
       "    .dataframe tbody tr th {\n",
       "        vertical-align: top;\n",
       "    }\n",
       "\n",
       "    .dataframe thead th {\n",
       "        text-align: right;\n",
       "    }\n",
       "</style>\n",
       "<table border=\"1\" class=\"dataframe\">\n",
       "  <thead>\n",
       "    <tr style=\"text-align: right;\">\n",
       "      <th></th>\n",
       "      <th>patient_id</th>\n",
       "      <th>appointment_id</th>\n",
       "      <th>gender</th>\n",
       "      <th>age</th>\n",
       "      <th>neighbourhood</th>\n",
       "      <th>scheduled_day</th>\n",
       "      <th>appointment_day</th>\n",
       "      <th>lead_time_days</th>\n",
       "      <th>appointment_mode</th>\n",
       "      <th>reminder_sent</th>\n",
       "      <th>sms_received</th>\n",
       "      <th>scholarship</th>\n",
       "      <th>hypertension</th>\n",
       "      <th>diabetes</th>\n",
       "      <th>alcoholism</th>\n",
       "      <th>handicap</th>\n",
       "      <th>reported_issue</th>\n",
       "      <th>no_show</th>\n",
       "    </tr>\n",
       "  </thead>\n",
       "  <tbody>\n",
       "    <tr>\n",
       "      <th>5</th>\n",
       "      <td>95985133231274</td>\n",
       "      <td>5626772</td>\n",
       "      <td>F</td>\n",
       "      <td>76</td>\n",
       "      <td>REPÚBLICA</td>\n",
       "      <td>2016-04-27</td>\n",
       "      <td>2016-04-29</td>\n",
       "      <td>1</td>\n",
       "      <td>physical</td>\n",
       "      <td>0</td>\n",
       "      <td>0</td>\n",
       "      <td>0</td>\n",
       "      <td>1</td>\n",
       "      <td>0</td>\n",
       "      <td>0</td>\n",
       "      <td>0</td>\n",
       "      <td>Flu</td>\n",
       "      <td>0</td>\n",
       "    </tr>\n",
       "    <tr>\n",
       "      <th>6</th>\n",
       "      <td>733688164476661</td>\n",
       "      <td>5630279</td>\n",
       "      <td>F</td>\n",
       "      <td>23</td>\n",
       "      <td>GOIABEIRAS</td>\n",
       "      <td>2016-04-27</td>\n",
       "      <td>2016-04-29</td>\n",
       "      <td>1</td>\n",
       "      <td>video</td>\n",
       "      <td>0</td>\n",
       "      <td>0</td>\n",
       "      <td>0</td>\n",
       "      <td>0</td>\n",
       "      <td>0</td>\n",
       "      <td>0</td>\n",
       "      <td>0</td>\n",
       "      <td>Cold</td>\n",
       "      <td>1</td>\n",
       "    </tr>\n",
       "    <tr>\n",
       "      <th>7</th>\n",
       "      <td>3449833394123</td>\n",
       "      <td>5630575</td>\n",
       "      <td>F</td>\n",
       "      <td>39</td>\n",
       "      <td>GOIABEIRAS</td>\n",
       "      <td>2016-04-27</td>\n",
       "      <td>2016-04-29</td>\n",
       "      <td>1</td>\n",
       "      <td>audio</td>\n",
       "      <td>1</td>\n",
       "      <td>0</td>\n",
       "      <td>0</td>\n",
       "      <td>0</td>\n",
       "      <td>0</td>\n",
       "      <td>0</td>\n",
       "      <td>0</td>\n",
       "      <td>Injury</td>\n",
       "      <td>1</td>\n",
       "    </tr>\n",
       "    <tr>\n",
       "      <th>9</th>\n",
       "      <td>78124564369297</td>\n",
       "      <td>5629123</td>\n",
       "      <td>F</td>\n",
       "      <td>19</td>\n",
       "      <td>CONQUISTA</td>\n",
       "      <td>2016-04-27</td>\n",
       "      <td>2016-04-29</td>\n",
       "      <td>1</td>\n",
       "      <td>video</td>\n",
       "      <td>1</td>\n",
       "      <td>0</td>\n",
       "      <td>0</td>\n",
       "      <td>0</td>\n",
       "      <td>0</td>\n",
       "      <td>0</td>\n",
       "      <td>0</td>\n",
       "      <td>Diabetes</td>\n",
       "      <td>0</td>\n",
       "    </tr>\n",
       "    <tr>\n",
       "      <th>10</th>\n",
       "      <td>734536231958495</td>\n",
       "      <td>5630213</td>\n",
       "      <td>F</td>\n",
       "      <td>30</td>\n",
       "      <td>NOVA PALESTINA</td>\n",
       "      <td>2016-04-27</td>\n",
       "      <td>2016-04-29</td>\n",
       "      <td>1</td>\n",
       "      <td>video</td>\n",
       "      <td>1</td>\n",
       "      <td>0</td>\n",
       "      <td>0</td>\n",
       "      <td>0</td>\n",
       "      <td>0</td>\n",
       "      <td>0</td>\n",
       "      <td>0</td>\n",
       "      <td>Checkup</td>\n",
       "      <td>0</td>\n",
       "    </tr>\n",
       "  </tbody>\n",
       "</table>\n",
       "</div>"
      ],
      "text/plain": [
       "         patient_id  appointment_id gender  age   neighbourhood scheduled_day  \\\n",
       "5    95985133231274         5626772      F   76       REPÚBLICA    2016-04-27   \n",
       "6   733688164476661         5630279      F   23      GOIABEIRAS    2016-04-27   \n",
       "7     3449833394123         5630575      F   39      GOIABEIRAS    2016-04-27   \n",
       "9    78124564369297         5629123      F   19       CONQUISTA    2016-04-27   \n",
       "10  734536231958495         5630213      F   30  NOVA PALESTINA    2016-04-27   \n",
       "\n",
       "   appointment_day  lead_time_days appointment_mode  reminder_sent  \\\n",
       "5       2016-04-29               1         physical              0   \n",
       "6       2016-04-29               1            video              0   \n",
       "7       2016-04-29               1            audio              1   \n",
       "9       2016-04-29               1            video              1   \n",
       "10      2016-04-29               1            video              1   \n",
       "\n",
       "    sms_received  scholarship  hypertension  diabetes  alcoholism  handicap  \\\n",
       "5              0            0             1         0           0         0   \n",
       "6              0            0             0         0           0         0   \n",
       "7              0            0             0         0           0         0   \n",
       "9              0            0             0         0           0         0   \n",
       "10             0            0             0         0           0         0   \n",
       "\n",
       "   reported_issue  no_show  \n",
       "5             Flu        0  \n",
       "6            Cold        1  \n",
       "7          Injury        1  \n",
       "9        Diabetes        0  \n",
       "10        Checkup        0  "
      ]
     },
     "execution_count": 30,
     "metadata": {},
     "output_type": "execute_result"
    }
   ],
   "source": [
    "# 1. Standardize date formats (remove time & timezone)\n",
    "df['scheduled_day'] = pd.to_datetime(df['scheduled_day']).dt.date\n",
    "df['appointment_day'] = pd.to_datetime(df['appointment_day']).dt.date\n",
    "\n",
    "# 2. Format Patient ID: remove scientific notation, convert to string\n",
    "df['patient_id'] = df['patient_id'].apply(lambda x: str(int(float(x))))\n",
    "\n",
    "\n",
    "# 3. Format gender to capital letters (F/M)\n",
    "df['gender'] = df['gender'].str.upper()\n",
    "\n",
    "# 4. Reset column order for clarity\n",
    "ordered_columns = [\n",
    "    'patient_id', 'appointment_id', 'gender', 'age', 'neighbourhood',\n",
    "    'scheduled_day', 'appointment_day', 'lead_time_days',\n",
    "    'appointment_mode', 'reminder_sent', 'sms_received',\n",
    "    'scholarship', 'hypertension', 'diabetes', 'alcoholism', 'handicap',\n",
    "    'reported_issue', 'no_show'\n",
    "]\n",
    "df = df[ordered_columns]\n",
    "\n",
    "# 5. Final check\n",
    "df.head()\n"
   ]
  },
  {
   "cell_type": "code",
   "execution_count": 32,
   "id": "7a1e3a8c",
   "metadata": {},
   "outputs": [
    {
     "name": "stdout",
     "output_type": "stream",
     "text": [
      "Processed dataset saved\n"
     ]
    }
   ],
   "source": [
    "# Save processed dataset\n",
    "df.to_csv(\"data/processed/NoShow.csv\", index=False)\n",
    "print(\"Processed dataset saved\")"
   ]
  },
  {
   "cell_type": "code",
   "execution_count": null,
   "id": "ae0ae1c5",
   "metadata": {},
   "outputs": [],
   "source": []
  }
 ],
 "metadata": {
  "kernelspec": {
   "display_name": "tele_env",
   "language": "python",
   "name": "python3"
  },
  "language_info": {
   "codemirror_mode": {
    "name": "ipython",
    "version": 3
   },
   "file_extension": ".py",
   "mimetype": "text/x-python",
   "name": "python",
   "nbconvert_exporter": "python",
   "pygments_lexer": "ipython3",
   "version": "3.10.18"
  }
 },
 "nbformat": 4,
 "nbformat_minor": 5
}
